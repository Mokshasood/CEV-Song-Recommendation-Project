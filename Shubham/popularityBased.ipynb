{
 "cells": [
  {
   "cell_type": "markdown",
   "metadata": {},
   "source": [
    "# POPULARITY BASED RECOMMENDOR SYSTEM"
   ]
  },
  {
   "cell_type": "code",
   "execution_count": 2,
   "metadata": {
    "scrolled": false
   },
   "outputs": [
    {
     "data": {
      "text/html": [
       "<div>\n",
       "<style scoped>\n",
       "    .dataframe tbody tr th:only-of-type {\n",
       "        vertical-align: middle;\n",
       "    }\n",
       "\n",
       "    .dataframe tbody tr th {\n",
       "        vertical-align: top;\n",
       "    }\n",
       "\n",
       "    .dataframe thead th {\n",
       "        text-align: right;\n",
       "    }\n",
       "</style>\n",
       "<table border=\"1\" class=\"dataframe\">\n",
       "  <thead>\n",
       "    <tr style=\"text-align: right;\">\n",
       "      <th></th>\n",
       "      <th>user_id</th>\n",
       "      <th>song_id</th>\n",
       "      <th>listen_count</th>\n",
       "    </tr>\n",
       "  </thead>\n",
       "  <tbody>\n",
       "    <tr>\n",
       "      <th>0</th>\n",
       "      <td>b80344d063b5ccb3212f76538f3d9e43d87dca9e</td>\n",
       "      <td>SOFGUAY12AB017B0A8</td>\n",
       "      <td>1</td>\n",
       "    </tr>\n",
       "    <tr>\n",
       "      <th>1</th>\n",
       "      <td>b80344d063b5ccb3212f76538f3d9e43d87dca9e</td>\n",
       "      <td>SOFRQTD12A81C233C0</td>\n",
       "      <td>1</td>\n",
       "    </tr>\n",
       "    <tr>\n",
       "      <th>2</th>\n",
       "      <td>b80344d063b5ccb3212f76538f3d9e43d87dca9e</td>\n",
       "      <td>SOHQWYZ12A6D4FA701</td>\n",
       "      <td>1</td>\n",
       "    </tr>\n",
       "    <tr>\n",
       "      <th>3</th>\n",
       "      <td>b80344d063b5ccb3212f76538f3d9e43d87dca9e</td>\n",
       "      <td>SOIYTOA12A6D4F9A23</td>\n",
       "      <td>1</td>\n",
       "    </tr>\n",
       "    <tr>\n",
       "      <th>4</th>\n",
       "      <td>b80344d063b5ccb3212f76538f3d9e43d87dca9e</td>\n",
       "      <td>SOIZAZL12A6701C53B</td>\n",
       "      <td>5</td>\n",
       "    </tr>\n",
       "  </tbody>\n",
       "</table>\n",
       "</div>"
      ],
      "text/plain": [
       "                                    user_id             song_id  listen_count\n",
       "0  b80344d063b5ccb3212f76538f3d9e43d87dca9e  SOFGUAY12AB017B0A8             1\n",
       "1  b80344d063b5ccb3212f76538f3d9e43d87dca9e  SOFRQTD12A81C233C0             1\n",
       "2  b80344d063b5ccb3212f76538f3d9e43d87dca9e  SOHQWYZ12A6D4FA701             1\n",
       "3  b80344d063b5ccb3212f76538f3d9e43d87dca9e  SOIYTOA12A6D4F9A23             1\n",
       "4  b80344d063b5ccb3212f76538f3d9e43d87dca9e  SOIZAZL12A6701C53B             5"
      ]
     },
     "execution_count": 2,
     "metadata": {},
     "output_type": "execute_result"
    }
   ],
   "source": [
    "import pandas as pd \n",
    "from sklearn.model_selection import train_test_split\n",
    "import numpy as np\n",
    "\n",
    "song_df_1 = pd.read_table(r'C:\\Users\\sv784\\Desktop\\SongRecommendor\\triplet_file.txt', header = None)\n",
    "song_df_1.columns = ['user_id', 'song_id', 'listen_count']\n",
    "song_df_1.head()"
   ]
  },
  {
   "cell_type": "code",
   "execution_count": 3,
   "metadata": {},
   "outputs": [
    {
     "data": {
      "text/plain": [
       "20024"
      ]
     },
     "execution_count": 3,
     "metadata": {},
     "output_type": "execute_result"
    }
   ],
   "source": [
    "len(song_df_1)"
   ]
  },
  {
   "cell_type": "code",
   "execution_count": 4,
   "metadata": {},
   "outputs": [
    {
     "data": {
      "text/html": [
       "<div>\n",
       "<style scoped>\n",
       "    .dataframe tbody tr th:only-of-type {\n",
       "        vertical-align: middle;\n",
       "    }\n",
       "\n",
       "    .dataframe tbody tr th {\n",
       "        vertical-align: top;\n",
       "    }\n",
       "\n",
       "    .dataframe thead th {\n",
       "        text-align: right;\n",
       "    }\n",
       "</style>\n",
       "<table border=\"1\" class=\"dataframe\">\n",
       "  <thead>\n",
       "    <tr style=\"text-align: right;\">\n",
       "      <th></th>\n",
       "      <th>song_id</th>\n",
       "      <th>title</th>\n",
       "      <th>release</th>\n",
       "      <th>artist_name</th>\n",
       "      <th>year</th>\n",
       "    </tr>\n",
       "  </thead>\n",
       "  <tbody>\n",
       "    <tr>\n",
       "      <th>0</th>\n",
       "      <td>SOQMMHC12AB0180CB8</td>\n",
       "      <td>Silent Night</td>\n",
       "      <td>Monster Ballads X-Mas</td>\n",
       "      <td>Faster Pussy cat</td>\n",
       "      <td>2003</td>\n",
       "    </tr>\n",
       "    <tr>\n",
       "      <th>1</th>\n",
       "      <td>SOVFVAK12A8C1350D9</td>\n",
       "      <td>Tanssi vaan</td>\n",
       "      <td>KarkuteillÃ¤</td>\n",
       "      <td>Karkkiautomaatti</td>\n",
       "      <td>1995</td>\n",
       "    </tr>\n",
       "    <tr>\n",
       "      <th>2</th>\n",
       "      <td>SOGTUKN12AB017F4F1</td>\n",
       "      <td>No One Could Ever</td>\n",
       "      <td>Butter</td>\n",
       "      <td>Hudson Mohawke</td>\n",
       "      <td>2006</td>\n",
       "    </tr>\n",
       "    <tr>\n",
       "      <th>3</th>\n",
       "      <td>SOBNYVR12A8C13558C</td>\n",
       "      <td>Si Vos QuerÃ©s</td>\n",
       "      <td>De Culo</td>\n",
       "      <td>Yerba Brava</td>\n",
       "      <td>2003</td>\n",
       "    </tr>\n",
       "    <tr>\n",
       "      <th>4</th>\n",
       "      <td>SOHSBXH12A8C13B0DF</td>\n",
       "      <td>Tangle Of Aspens</td>\n",
       "      <td>Rene Ablaze Presents Winter Sessions</td>\n",
       "      <td>Der Mystic</td>\n",
       "      <td>0</td>\n",
       "    </tr>\n",
       "  </tbody>\n",
       "</table>\n",
       "</div>"
      ],
      "text/plain": [
       "              song_id              title  \\\n",
       "0  SOQMMHC12AB0180CB8       Silent Night   \n",
       "1  SOVFVAK12A8C1350D9        Tanssi vaan   \n",
       "2  SOGTUKN12AB017F4F1  No One Could Ever   \n",
       "3  SOBNYVR12A8C13558C     Si Vos QuerÃ©s   \n",
       "4  SOHSBXH12A8C13B0DF   Tangle Of Aspens   \n",
       "\n",
       "                                release       artist_name  year  \n",
       "0                 Monster Ballads X-Mas  Faster Pussy cat  2003  \n",
       "1                          KarkuteillÃ¤  Karkkiautomaatti  1995  \n",
       "2                                Butter    Hudson Mohawke  2006  \n",
       "3                               De Culo       Yerba Brava  2003  \n",
       "4  Rene Ablaze Presents Winter Sessions        Der Mystic     0  "
      ]
     },
     "execution_count": 4,
     "metadata": {},
     "output_type": "execute_result"
    }
   ],
   "source": [
    "song_df_2 = pd.read_excel(r'C:\\Users\\sv784\\Desktop\\SongRecommendor\\metadata_file.xlsx')\n",
    "song_df_2.head()"
   ]
  },
  {
   "cell_type": "code",
   "execution_count": 5,
   "metadata": {},
   "outputs": [
    {
     "data": {
      "text/html": [
       "<div>\n",
       "<style scoped>\n",
       "    .dataframe tbody tr th:only-of-type {\n",
       "        vertical-align: middle;\n",
       "    }\n",
       "\n",
       "    .dataframe tbody tr th {\n",
       "        vertical-align: top;\n",
       "    }\n",
       "\n",
       "    .dataframe thead th {\n",
       "        text-align: right;\n",
       "    }\n",
       "</style>\n",
       "<table border=\"1\" class=\"dataframe\">\n",
       "  <thead>\n",
       "    <tr style=\"text-align: right;\">\n",
       "      <th></th>\n",
       "      <th>song_id</th>\n",
       "      <th>title</th>\n",
       "      <th>release</th>\n",
       "      <th>artist_name</th>\n",
       "      <th>year</th>\n",
       "      <th>user_id</th>\n",
       "      <th>listen_count</th>\n",
       "    </tr>\n",
       "  </thead>\n",
       "  <tbody>\n",
       "    <tr>\n",
       "      <th>0</th>\n",
       "      <td>SOSZNRJ12A8AE46E38</td>\n",
       "      <td>Anyone Else But You</td>\n",
       "      <td>Juno - Music From The Motion Picture</td>\n",
       "      <td>Michael Cera &amp; Ellen Page</td>\n",
       "      <td>2007</td>\n",
       "      <td>d6589314c0a9bcbca4fee0c93b14bc402363afea</td>\n",
       "      <td>6</td>\n",
       "    </tr>\n",
       "    <tr>\n",
       "      <th>1</th>\n",
       "      <td>SOSZNRJ12A8AE46E38</td>\n",
       "      <td>Anyone Else But You</td>\n",
       "      <td>Juno - Music From The Motion Picture</td>\n",
       "      <td>Michael Cera &amp; Ellen Page</td>\n",
       "      <td>2007</td>\n",
       "      <td>484b69dd013df1ec0cfd504886d4f647cb32b08f</td>\n",
       "      <td>1</td>\n",
       "    </tr>\n",
       "    <tr>\n",
       "      <th>2</th>\n",
       "      <td>SOSZNRJ12A8AE46E38</td>\n",
       "      <td>Anyone Else But You</td>\n",
       "      <td>Juno - Music From The Motion Picture</td>\n",
       "      <td>Michael Cera &amp; Ellen Page</td>\n",
       "      <td>2007</td>\n",
       "      <td>3f9ed694a79835c921ef6d94acd28f876c1d901e</td>\n",
       "      <td>4</td>\n",
       "    </tr>\n",
       "    <tr>\n",
       "      <th>3</th>\n",
       "      <td>SOGKGLB12A81C22AFA</td>\n",
       "      <td>Drunk and Hot Girls</td>\n",
       "      <td>Graduation</td>\n",
       "      <td>Kanye West / Mos Def</td>\n",
       "      <td>2007</td>\n",
       "      <td>529b42cdbc379ad2e765aec6d3bad8a192038741</td>\n",
       "      <td>2</td>\n",
       "    </tr>\n",
       "    <tr>\n",
       "      <th>4</th>\n",
       "      <td>SOGKGLB12A81C22AFA</td>\n",
       "      <td>Drunk and Hot Girls</td>\n",
       "      <td>Graduation</td>\n",
       "      <td>Kanye West / Mos Def</td>\n",
       "      <td>2007</td>\n",
       "      <td>73e9e981d5fc2a6453cdfb5025e2fa0a144a4142</td>\n",
       "      <td>1</td>\n",
       "    </tr>\n",
       "  </tbody>\n",
       "</table>\n",
       "</div>"
      ],
      "text/plain": [
       "              song_id                title  \\\n",
       "0  SOSZNRJ12A8AE46E38  Anyone Else But You   \n",
       "1  SOSZNRJ12A8AE46E38  Anyone Else But You   \n",
       "2  SOSZNRJ12A8AE46E38  Anyone Else But You   \n",
       "3  SOGKGLB12A81C22AFA  Drunk and Hot Girls   \n",
       "4  SOGKGLB12A81C22AFA  Drunk and Hot Girls   \n",
       "\n",
       "                                release                artist_name  year  \\\n",
       "0  Juno - Music From The Motion Picture  Michael Cera & Ellen Page  2007   \n",
       "1  Juno - Music From The Motion Picture  Michael Cera & Ellen Page  2007   \n",
       "2  Juno - Music From The Motion Picture  Michael Cera & Ellen Page  2007   \n",
       "3                            Graduation       Kanye West / Mos Def  2007   \n",
       "4                            Graduation       Kanye West / Mos Def  2007   \n",
       "\n",
       "                                    user_id  listen_count  \n",
       "0  d6589314c0a9bcbca4fee0c93b14bc402363afea             6  \n",
       "1  484b69dd013df1ec0cfd504886d4f647cb32b08f             1  \n",
       "2  3f9ed694a79835c921ef6d94acd28f876c1d901e             4  \n",
       "3  529b42cdbc379ad2e765aec6d3bad8a192038741             2  \n",
       "4  73e9e981d5fc2a6453cdfb5025e2fa0a144a4142             1  "
      ]
     },
     "execution_count": 5,
     "metadata": {},
     "output_type": "execute_result"
    }
   ],
   "source": [
    "#merging both the files\n",
    "song_df = song_df_2.merge(song_df_1, on = 'song_id')\n",
    "song_df.head()"
   ]
  },
  {
   "cell_type": "code",
   "execution_count": 6,
   "metadata": {},
   "outputs": [
    {
     "name": "stdout",
     "output_type": "stream",
     "text": [
      "TextFile: (20024, 3)\n",
      "ExcelFile: (10000, 5)\n",
      "MergedFile: (179, 7)\n"
     ]
    }
   ],
   "source": [
    "print('TextFile:', song_df_1.shape)\n",
    "print('ExcelFile:', song_df_2.shape)\n",
    "print('MergedFile:', song_df.shape)"
   ]
  },
  {
   "cell_type": "code",
   "execution_count": 7,
   "metadata": {},
   "outputs": [
    {
     "data": {
      "text/plain": [
       "179"
      ]
     },
     "execution_count": 7,
     "metadata": {},
     "output_type": "execute_result"
    }
   ],
   "source": [
    "len(song_df)"
   ]
  },
  {
   "cell_type": "markdown",
   "metadata": {},
   "source": [
    "Now we will count the total listen count of each song and arrange data in decreasing order."
   ]
  },
  {
   "cell_type": "code",
   "execution_count": 8,
   "metadata": {},
   "outputs": [
    {
     "data": {
      "text/html": [
       "<div>\n",
       "<style scoped>\n",
       "    .dataframe tbody tr th:only-of-type {\n",
       "        vertical-align: middle;\n",
       "    }\n",
       "\n",
       "    .dataframe tbody tr th {\n",
       "        vertical-align: top;\n",
       "    }\n",
       "\n",
       "    .dataframe thead th {\n",
       "        text-align: right;\n",
       "    }\n",
       "</style>\n",
       "<table border=\"1\" class=\"dataframe\">\n",
       "  <thead>\n",
       "    <tr style=\"text-align: right;\">\n",
       "      <th></th>\n",
       "      <th>song_id</th>\n",
       "      <th>listen_count</th>\n",
       "      <th>percentage</th>\n",
       "    </tr>\n",
       "  </thead>\n",
       "  <tbody>\n",
       "    <tr>\n",
       "      <th>6</th>\n",
       "      <td>SOBOUPA12A6D4F81F1</td>\n",
       "      <td>21</td>\n",
       "      <td>11.731844</td>\n",
       "    </tr>\n",
       "    <tr>\n",
       "      <th>32</th>\n",
       "      <td>SOMMONH12A6D4F41CD</td>\n",
       "      <td>9</td>\n",
       "      <td>5.027933</td>\n",
       "    </tr>\n",
       "    <tr>\n",
       "      <th>13</th>\n",
       "      <td>SOESZWS12A6D4F910C</td>\n",
       "      <td>6</td>\n",
       "      <td>3.351955</td>\n",
       "    </tr>\n",
       "    <tr>\n",
       "      <th>14</th>\n",
       "      <td>SOETSTN12A81C219A9</td>\n",
       "      <td>6</td>\n",
       "      <td>3.351955</td>\n",
       "    </tr>\n",
       "    <tr>\n",
       "      <th>21</th>\n",
       "      <td>SOGLBQA12A6701E7AF</td>\n",
       "      <td>6</td>\n",
       "      <td>3.351955</td>\n",
       "    </tr>\n",
       "  </tbody>\n",
       "</table>\n",
       "</div>"
      ],
      "text/plain": [
       "               song_id  listen_count  percentage\n",
       "6   SOBOUPA12A6D4F81F1            21   11.731844\n",
       "32  SOMMONH12A6D4F41CD             9    5.027933\n",
       "13  SOESZWS12A6D4F910C             6    3.351955\n",
       "14  SOETSTN12A81C219A9             6    3.351955\n",
       "21  SOGLBQA12A6701E7AF             6    3.351955"
      ]
     },
     "execution_count": 8,
     "metadata": {},
     "output_type": "execute_result"
    }
   ],
   "source": [
    "#Arranging data according to number of times they are played.\n",
    "song_group = song_df.groupby(['song_id']).agg({'listen_count':'count'}).reset_index()\n",
    "group_sum = song_group['listen_count'].sum()\n",
    "song_group['percentage'] = song_group['listen_count'].div(group_sum)*100\n",
    "\n",
    "#grouping them in ascending order\n",
    "song_group.sort_values(['listen_count', 'song_id'], ascending = [0,1]).head()"
   ]
  },
  {
   "cell_type": "code",
   "execution_count": 9,
   "metadata": {},
   "outputs": [
    {
     "data": {
      "text/plain": [
       "140"
      ]
     },
     "execution_count": 9,
     "metadata": {},
     "output_type": "execute_result"
    }
   ],
   "source": [
    "#Number of unique users\n",
    "users = song_df['user_id'].unique()\n",
    "len(users)"
   ]
  },
  {
   "cell_type": "code",
   "execution_count": 10,
   "metadata": {},
   "outputs": [
    {
     "data": {
      "text/plain": [
       "77"
      ]
     },
     "execution_count": 10,
     "metadata": {},
     "output_type": "execute_result"
    }
   ],
   "source": [
    "#Number of unique song\n",
    "song = song_df['song_id'].unique()\n",
    "len(song)"
   ]
  },
  {
   "cell_type": "code",
   "execution_count": 11,
   "metadata": {
    "scrolled": true
   },
   "outputs": [
    {
     "name": "stdout",
     "output_type": "stream",
     "text": [
      "               song_id                                              title  \\\n",
      "97  SOPKTEV12A8C141E33                                         Burnin' Up   \n",
      "43  SOBOUPA12A6D4F81F1                             SinceritÃ© Et Jalousie   \n",
      "10  SOGELNH12AB017F92C                             Love vs. Money: Part 2   \n",
      "93  SOOWOSS12A67ADE2D3  Rebirth of Slick (Cool Like Dat) (2005 Digital...   \n",
      "73  SOLPVAQ12AB017EB35                                  All Men Are Liars   \n",
      "\n",
      "                                            release      artist_name  year  \\\n",
      "97                             2009 GRAMMY Nominees   Jonas Brothers  2008   \n",
      "43                                  Simple Et Funky  Alliance Ethnik     0   \n",
      "10                                    Love Vs Money        The-Dream     0   \n",
      "93  Beyond The Spectrum - The Creamy Spy Chronicles  Digable Planets     0   \n",
      "73        Quiet Please... The New Best Of Nick Lowe        Nick Lowe     0   \n",
      "\n",
      "                                     user_id  listen_count  \n",
      "97  4691b4c353503da2c108e372ff056a9ac847c4d1             3  \n",
      "43  0d176eb95537800a1e67ed5fe82eab3d2caafca9             1  \n",
      "10  9b887e10a4711486085c4fae2d2599fc0d2c484d             1  \n",
      "93  1d0e2d525b7f35e333288e3d0095286baca23cd3             1  \n",
      "73  3ff7a31452eeabd7a4e07f0d243c674e3d0adf46            10  \n"
     ]
    }
   ],
   "source": [
    "#Splitting our data in two parts for testing and training purpose.\n",
    "data_training, data_testing = train_test_split(song_df, test_size = 0.40, random_state = 0)\n",
    "print(data_training.head())"
   ]
  },
  {
   "cell_type": "markdown",
   "metadata": {},
   "source": [
    "# Our popularity based recommendor Class\n"
   ]
  },
  {
   "cell_type": "markdown",
   "metadata": {},
   "source": [
    "Will randomly take 40% of our data as training data and train our model with it."
   ]
  },
  {
   "cell_type": "code",
   "execution_count": 12,
   "metadata": {},
   "outputs": [],
   "source": [
    "class popularity_based_recommendor():\n",
    "    def _init_(self):\n",
    "        self.data_training = None\n",
    "        self.user_id = None\n",
    "        self.song_id = None\n",
    "        self.popular_recommendations = None\n",
    "    \n",
    "    #Popularity based recommedation model \n",
    "    def create(self, data_training, user_id, song_id):\n",
    "        self.data_training = data_training\n",
    "        self.user_id = user_id\n",
    "        self.song_id = song_id\n",
    "        \n",
    "        #counting user_id for each unique song_id.\n",
    "        data_training_group = data_training.groupby([self.song_id]).agg({self.user_id:'count'}).reset_index()\n",
    "        #Setting count as recommendation score.\n",
    "        data_training_group.rename(columns = {'user_id': 'score'}, inplace = True)\n",
    "        \n",
    "        #Sorting song based upon recommendation score.\n",
    "        training_data_sort = data_training_group.sort_values(['score', self.song_id], ascending = [0, 1])\n",
    "        \n",
    "        #Generating recommendation rank based on recommendation score.\n",
    "        training_data_sort['Rank'] = training_data_sort['score'].rank(ascending = 0, method = 'first')\n",
    "        \n",
    "        #Will get the top 5 recommendation\n",
    "        self.popular_recommendations = training_data_sort.head(5)\n",
    "        \n",
    "    def popularity_based_recommendation(self, user_id):\n",
    "        recommendation_forUser = self.popular_recommendations\n",
    "        recommendation_forUser['user_id'] = user_id\n",
    "        \n",
    "        return recommendation_forUser"
   ]
  },
  {
   "cell_type": "markdown",
   "metadata": {},
   "source": [
    "Creating an instance of recommendor class."
   ]
  },
  {
   "cell_type": "code",
   "execution_count": 13,
   "metadata": {},
   "outputs": [],
   "source": [
    "class_instance = popularity_based_recommendor()\n",
    "class_instance.create(data_training, 'user_id', 'title')"
   ]
  },
  {
   "cell_type": "markdown",
   "metadata": {},
   "source": [
    "# Final results"
   ]
  },
  {
   "cell_type": "markdown",
   "metadata": {},
   "source": [
    "Results will not differ for different users. "
   ]
  },
  {
   "cell_type": "code",
   "execution_count": 14,
   "metadata": {},
   "outputs": [
    {
     "data": {
      "text/html": [
       "<div>\n",
       "<style scoped>\n",
       "    .dataframe tbody tr th:only-of-type {\n",
       "        vertical-align: middle;\n",
       "    }\n",
       "\n",
       "    .dataframe tbody tr th {\n",
       "        vertical-align: top;\n",
       "    }\n",
       "\n",
       "    .dataframe thead th {\n",
       "        text-align: right;\n",
       "    }\n",
       "</style>\n",
       "<table border=\"1\" class=\"dataframe\">\n",
       "  <thead>\n",
       "    <tr style=\"text-align: right;\">\n",
       "      <th></th>\n",
       "      <th>title</th>\n",
       "      <th>score</th>\n",
       "      <th>Rank</th>\n",
       "      <th>user_id</th>\n",
       "    </tr>\n",
       "  </thead>\n",
       "  <tbody>\n",
       "    <tr>\n",
       "      <th>41</th>\n",
       "      <td>SinceritÃ© Et Jalousie</td>\n",
       "      <td>14</td>\n",
       "      <td>1.0</td>\n",
       "      <td>9b887e10a4711486085c4fae2d2599fc0d2c484d</td>\n",
       "    </tr>\n",
       "    <tr>\n",
       "      <th>47</th>\n",
       "      <td>The Maestro</td>\n",
       "      <td>6</td>\n",
       "      <td>2.0</td>\n",
       "      <td>9b887e10a4711486085c4fae2d2599fc0d2c484d</td>\n",
       "    </tr>\n",
       "    <tr>\n",
       "      <th>0</th>\n",
       "      <td>All Men Are Liars</td>\n",
       "      <td>4</td>\n",
       "      <td>3.0</td>\n",
       "      <td>9b887e10a4711486085c4fae2d2599fc0d2c484d</td>\n",
       "    </tr>\n",
       "    <tr>\n",
       "      <th>40</th>\n",
       "      <td>Silent Shout</td>\n",
       "      <td>4</td>\n",
       "      <td>4.0</td>\n",
       "      <td>9b887e10a4711486085c4fae2d2599fc0d2c484d</td>\n",
       "    </tr>\n",
       "    <tr>\n",
       "      <th>50</th>\n",
       "      <td>Too Much Love</td>\n",
       "      <td>4</td>\n",
       "      <td>5.0</td>\n",
       "      <td>9b887e10a4711486085c4fae2d2599fc0d2c484d</td>\n",
       "    </tr>\n",
       "  </tbody>\n",
       "</table>\n",
       "</div>"
      ],
      "text/plain": [
       "                     title  score  Rank  \\\n",
       "41  SinceritÃ© Et Jalousie     14   1.0   \n",
       "47             The Maestro      6   2.0   \n",
       "0        All Men Are Liars      4   3.0   \n",
       "40            Silent Shout      4   4.0   \n",
       "50           Too Much Love      4   5.0   \n",
       "\n",
       "                                     user_id  \n",
       "41  9b887e10a4711486085c4fae2d2599fc0d2c484d  \n",
       "47  9b887e10a4711486085c4fae2d2599fc0d2c484d  \n",
       "0   9b887e10a4711486085c4fae2d2599fc0d2c484d  \n",
       "40  9b887e10a4711486085c4fae2d2599fc0d2c484d  \n",
       "50  9b887e10a4711486085c4fae2d2599fc0d2c484d  "
      ]
     },
     "execution_count": 14,
     "metadata": {},
     "output_type": "execute_result"
    }
   ],
   "source": [
    "#Predictions for first user\n",
    "user_id = users[10]\n",
    "class_instance.popularity_based_recommendation(user_id).head(5)"
   ]
  },
  {
   "cell_type": "markdown",
   "metadata": {},
   "source": [
    "Making prediction for another user and result should remain same. "
   ]
  },
  {
   "cell_type": "code",
   "execution_count": 15,
   "metadata": {},
   "outputs": [
    {
     "data": {
      "text/html": [
       "<div>\n",
       "<style scoped>\n",
       "    .dataframe tbody tr th:only-of-type {\n",
       "        vertical-align: middle;\n",
       "    }\n",
       "\n",
       "    .dataframe tbody tr th {\n",
       "        vertical-align: top;\n",
       "    }\n",
       "\n",
       "    .dataframe thead th {\n",
       "        text-align: right;\n",
       "    }\n",
       "</style>\n",
       "<table border=\"1\" class=\"dataframe\">\n",
       "  <thead>\n",
       "    <tr style=\"text-align: right;\">\n",
       "      <th></th>\n",
       "      <th>title</th>\n",
       "      <th>score</th>\n",
       "      <th>Rank</th>\n",
       "      <th>user_id</th>\n",
       "    </tr>\n",
       "  </thead>\n",
       "  <tbody>\n",
       "    <tr>\n",
       "      <th>41</th>\n",
       "      <td>SinceritÃ© Et Jalousie</td>\n",
       "      <td>14</td>\n",
       "      <td>1.0</td>\n",
       "      <td>1b704d4cddabea8258bd93497fcb73eab32fa592</td>\n",
       "    </tr>\n",
       "    <tr>\n",
       "      <th>47</th>\n",
       "      <td>The Maestro</td>\n",
       "      <td>6</td>\n",
       "      <td>2.0</td>\n",
       "      <td>1b704d4cddabea8258bd93497fcb73eab32fa592</td>\n",
       "    </tr>\n",
       "    <tr>\n",
       "      <th>0</th>\n",
       "      <td>All Men Are Liars</td>\n",
       "      <td>4</td>\n",
       "      <td>3.0</td>\n",
       "      <td>1b704d4cddabea8258bd93497fcb73eab32fa592</td>\n",
       "    </tr>\n",
       "    <tr>\n",
       "      <th>40</th>\n",
       "      <td>Silent Shout</td>\n",
       "      <td>4</td>\n",
       "      <td>4.0</td>\n",
       "      <td>1b704d4cddabea8258bd93497fcb73eab32fa592</td>\n",
       "    </tr>\n",
       "    <tr>\n",
       "      <th>50</th>\n",
       "      <td>Too Much Love</td>\n",
       "      <td>4</td>\n",
       "      <td>5.0</td>\n",
       "      <td>1b704d4cddabea8258bd93497fcb73eab32fa592</td>\n",
       "    </tr>\n",
       "  </tbody>\n",
       "</table>\n",
       "</div>"
      ],
      "text/plain": [
       "                     title  score  Rank  \\\n",
       "41  SinceritÃ© Et Jalousie     14   1.0   \n",
       "47             The Maestro      6   2.0   \n",
       "0        All Men Are Liars      4   3.0   \n",
       "40            Silent Shout      4   4.0   \n",
       "50           Too Much Love      4   5.0   \n",
       "\n",
       "                                     user_id  \n",
       "41  1b704d4cddabea8258bd93497fcb73eab32fa592  \n",
       "47  1b704d4cddabea8258bd93497fcb73eab32fa592  \n",
       "0   1b704d4cddabea8258bd93497fcb73eab32fa592  \n",
       "40  1b704d4cddabea8258bd93497fcb73eab32fa592  \n",
       "50  1b704d4cddabea8258bd93497fcb73eab32fa592  "
      ]
     },
     "execution_count": 15,
     "metadata": {},
     "output_type": "execute_result"
    }
   ],
   "source": [
    "#Predictions for second user\n",
    "user_id = users[5]\n",
    "class_instance.popularity_based_recommendation(user_id).head(10)"
   ]
  }
 ],
 "metadata": {
  "kernelspec": {
   "display_name": "Python 3",
   "language": "python",
   "name": "python3"
  },
  "language_info": {
   "codemirror_mode": {
    "name": "ipython",
    "version": 3
   },
   "file_extension": ".py",
   "mimetype": "text/x-python",
   "name": "python",
   "nbconvert_exporter": "python",
   "pygments_lexer": "ipython3",
   "version": "3.8.5"
  }
 },
 "nbformat": 4,
 "nbformat_minor": 4
}
